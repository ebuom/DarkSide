{
 "cells": [
  {
   "cell_type": "code",
   "execution_count": 25,
   "id": "2b53367f",
   "metadata": {},
   "outputs": [],
   "source": [
    "import numpy as np\n",
    "import pandas as pd\n",
    "import glob\n",
    "import matplotlib.pyplot as plt\n",
    "\n",
    "# load standard model data\n",
    "sm_er , sm_spec = np.loadtxt('data/argon_spec.txt', delimiter=' ')\n",
    "\n",
    "# Loading all the data into a pandas dataframe\n",
    "\n",
    "LMuTaupaths = glob.glob('input/*')\n",
    "\n",
    "df_MuTau = pd.DataFrame()\n",
    "\n",
    "for p in LMuTaupaths:\n",
    "    filepath = p + '/spectra_Ar.npy'\n",
    "    ERs, g_x, m_A, spec=np.load(filepath, allow_pickle=True)\n",
    "    for i in range(len(m_A)):\n",
    "        temp_entry = {'ERs': ERs, 'g_x':g_x, 'm_A':m_A[i], 'spec':spec[i]}\n",
    "        #print(temp_entry)\n",
    "        df_MuTau = df_MuTau.append(temp_entry, ignore_index=True)\n"
   ]
  },
  {
   "cell_type": "code",
   "execution_count": 26,
   "id": "3a6628dd",
   "metadata": {},
   "outputs": [
    {
     "data": {
      "text/html": [
       "<div>\n",
       "<style scoped>\n",
       "    .dataframe tbody tr th:only-of-type {\n",
       "        vertical-align: middle;\n",
       "    }\n",
       "\n",
       "    .dataframe tbody tr th {\n",
       "        vertical-align: top;\n",
       "    }\n",
       "\n",
       "    .dataframe thead th {\n",
       "        text-align: right;\n",
       "    }\n",
       "</style>\n",
       "<table border=\"1\" class=\"dataframe\">\n",
       "  <thead>\n",
       "    <tr style=\"text-align: right;\">\n",
       "      <th></th>\n",
       "      <th>ERs</th>\n",
       "      <th>g_x</th>\n",
       "      <th>m_A</th>\n",
       "      <th>spec</th>\n",
       "    </tr>\n",
       "  </thead>\n",
       "  <tbody>\n",
       "    <tr>\n",
       "      <th>0</th>\n",
       "      <td>[1e-09, 1.00230569974896e-09, 1.00461671574925...</td>\n",
       "      <td>0.000102</td>\n",
       "      <td>1.000000</td>\n",
       "      <td>[1399873.6474421392, 1398701.1686751423, 13975...</td>\n",
       "    </tr>\n",
       "    <tr>\n",
       "      <th>1</th>\n",
       "      <td>[1e-09, 1.00230569974896e-09, 1.00461671574925...</td>\n",
       "      <td>0.000102</td>\n",
       "      <td>0.932603</td>\n",
       "      <td>[1399873.6840631922, 1398701.2052703113, 13975...</td>\n",
       "    </tr>\n",
       "    <tr>\n",
       "      <th>2</th>\n",
       "      <td>[1e-09, 1.00230569974896e-09, 1.00461671574925...</td>\n",
       "      <td>0.000102</td>\n",
       "      <td>0.869749</td>\n",
       "      <td>[1399873.7261693405, 1398701.2473466992, 13975...</td>\n",
       "    </tr>\n",
       "    <tr>\n",
       "      <th>3</th>\n",
       "      <td>[1e-09, 1.00230569974896e-09, 1.00461671574925...</td>\n",
       "      <td>0.000102</td>\n",
       "      <td>0.811131</td>\n",
       "      <td>[1399873.7745822854, 1398701.2957254252, 13975...</td>\n",
       "    </tr>\n",
       "    <tr>\n",
       "      <th>4</th>\n",
       "      <td>[1e-09, 1.00230569974896e-09, 1.00461671574925...</td>\n",
       "      <td>0.000102</td>\n",
       "      <td>0.756463</td>\n",
       "      <td>[1399873.8302468695, 1398701.3513506653, 13975...</td>\n",
       "    </tr>\n",
       "    <tr>\n",
       "      <th>...</th>\n",
       "      <td>...</td>\n",
       "      <td>...</td>\n",
       "      <td>...</td>\n",
       "      <td>...</td>\n",
       "    </tr>\n",
       "    <tr>\n",
       "      <th>19995</th>\n",
       "      <td>[1e-09, 1.00230569974896e-09, 1.00461671574925...</td>\n",
       "      <td>0.000784</td>\n",
       "      <td>0.001322</td>\n",
       "      <td>[15709897459.95264, 15693873272.079021, 156778...</td>\n",
       "    </tr>\n",
       "    <tr>\n",
       "      <th>19996</th>\n",
       "      <td>[1e-09, 1.00230569974896e-09, 1.00461671574925...</td>\n",
       "      <td>0.000784</td>\n",
       "      <td>0.001233</td>\n",
       "      <td>[20513991948.64525, 20492516132.122036, 204709...</td>\n",
       "    </tr>\n",
       "    <tr>\n",
       "      <th>19997</th>\n",
       "      <td>[1e-09, 1.00230569974896e-09, 1.00461671574925...</td>\n",
       "      <td>0.000784</td>\n",
       "      <td>0.001150</td>\n",
       "      <td>[26741073639.9925, 26712263155.15236, 26683399...</td>\n",
       "    </tr>\n",
       "    <tr>\n",
       "      <th>19998</th>\n",
       "      <td>[1e-09, 1.00230569974896e-09, 1.00461671574925...</td>\n",
       "      <td>0.000784</td>\n",
       "      <td>0.001072</td>\n",
       "      <td>[34790245575.99046, 34751561185.14603, 3471280...</td>\n",
       "    </tr>\n",
       "    <tr>\n",
       "      <th>19999</th>\n",
       "      <td>[1e-09, 1.00230569974896e-09, 1.00461671574925...</td>\n",
       "      <td>0.000784</td>\n",
       "      <td>0.001000</td>\n",
       "      <td>[45161973958.53507, 45109993599.02923, 4505792...</td>\n",
       "    </tr>\n",
       "  </tbody>\n",
       "</table>\n",
       "<p>20000 rows × 4 columns</p>\n",
       "</div>"
      ],
      "text/plain": [
       "                                                     ERs       g_x       m_A  \\\n",
       "0      [1e-09, 1.00230569974896e-09, 1.00461671574925...  0.000102  1.000000   \n",
       "1      [1e-09, 1.00230569974896e-09, 1.00461671574925...  0.000102  0.932603   \n",
       "2      [1e-09, 1.00230569974896e-09, 1.00461671574925...  0.000102  0.869749   \n",
       "3      [1e-09, 1.00230569974896e-09, 1.00461671574925...  0.000102  0.811131   \n",
       "4      [1e-09, 1.00230569974896e-09, 1.00461671574925...  0.000102  0.756463   \n",
       "...                                                  ...       ...       ...   \n",
       "19995  [1e-09, 1.00230569974896e-09, 1.00461671574925...  0.000784  0.001322   \n",
       "19996  [1e-09, 1.00230569974896e-09, 1.00461671574925...  0.000784  0.001233   \n",
       "19997  [1e-09, 1.00230569974896e-09, 1.00461671574925...  0.000784  0.001150   \n",
       "19998  [1e-09, 1.00230569974896e-09, 1.00461671574925...  0.000784  0.001072   \n",
       "19999  [1e-09, 1.00230569974896e-09, 1.00461671574925...  0.000784  0.001000   \n",
       "\n",
       "                                                    spec  \n",
       "0      [1399873.6474421392, 1398701.1686751423, 13975...  \n",
       "1      [1399873.6840631922, 1398701.2052703113, 13975...  \n",
       "2      [1399873.7261693405, 1398701.2473466992, 13975...  \n",
       "3      [1399873.7745822854, 1398701.2957254252, 13975...  \n",
       "4      [1399873.8302468695, 1398701.3513506653, 13975...  \n",
       "...                                                  ...  \n",
       "19995  [15709897459.95264, 15693873272.079021, 156778...  \n",
       "19996  [20513991948.64525, 20492516132.122036, 204709...  \n",
       "19997  [26741073639.9925, 26712263155.15236, 26683399...  \n",
       "19998  [34790245575.99046, 34751561185.14603, 3471280...  \n",
       "19999  [45161973958.53507, 45109993599.02923, 4505792...  \n",
       "\n",
       "[20000 rows x 4 columns]"
      ]
     },
     "execution_count": 26,
     "metadata": {},
     "output_type": "execute_result"
    }
   ],
   "source": [
    "df_MuTau"
   ]
  },
  {
   "cell_type": "code",
   "execution_count": 28,
   "id": "55a477cd",
   "metadata": {},
   "outputs": [
    {
     "data": {
      "text/plain": [
       "[<matplotlib.lines.Line2D at 0x7fe44fa96280>]"
      ]
     },
     "execution_count": 28,
     "metadata": {},
     "output_type": "execute_result"
    },
    {
     "data": {
      "image/png": "[encoded data removed]",
      "text/plain": [
       "<Figure size 432x288 with 1 Axes>"
      ]
     },
     "metadata": {
      "needs_background": "light"
     },
     "output_type": "display_data"
    }
   ],
   "source": [
    "#%% plotting one spec\n",
    "\n",
    "plt.xlabel(r'$E_R\\,\\,\\,\\left[\\rm{keV}\\right]$', size=16)\n",
    "plt.ylabel(r'$\\rm{d}R/\\rm{d}E_R\\,\\,\\,\\left[\\rm{keV}^{-1}\\,\\,\\rm{ton}^{-1}\\,\\,\\rm{yr}^{-1}\\right]$', size=16)\n",
    "plt.loglog(df_MuTau[(df_MuTau['g_x']==0.01) & (df_MuTau['m_A']==1.0)]['ERs'].values[0]*1e6,\n",
    "           df_MuTau[(df_MuTau['g_x']==0.01) & (df_MuTau['m_A']==1.0)]['spec'].values[0])\n",
    "plt.loglog(sm_er*1e6,sm_spec)\n"
   ]
  },
  {
   "cell_type": "code",
   "execution_count": 44,
   "id": "fa2e2433",
   "metadata": {},
   "outputs": [],
   "source": [
    "# Adding diff column to data frame\n",
    "# using traps for the bsm specs then divding by the value for the sm - gives an indication of the difference between sma nd bsm\n",
    "# using the sm spec I have loaded in doesn't work as it is not over the same energy range - so am going to use 0 as SM as it looks the same - will need to see if this act\n",
    "df_MuTau['diff'] = df_MuTau.apply(lambda x: np.trapz(x.spec, x.ERs)/ np.trapz(sm_spec, sm_er), axis=1)"
   ]
  },
  {
   "cell_type": "code",
   "execution_count": 45,
   "id": "bd304b76",
   "metadata": {},
   "outputs": [
    {
     "data": {
      "text/html": [
       "<div>\n",
       "<style scoped>\n",
       "    .dataframe tbody tr th:only-of-type {\n",
       "        vertical-align: middle;\n",
       "    }\n",
       "\n",
       "    .dataframe tbody tr th {\n",
       "        vertical-align: top;\n",
       "    }\n",
       "\n",
       "    .dataframe thead th {\n",
       "        text-align: right;\n",
       "    }\n",
       "</style>\n",
       "<table border=\"1\" class=\"dataframe\">\n",
       "  <thead>\n",
       "    <tr style=\"text-align: right;\">\n",
       "      <th></th>\n",
       "      <th>ERs</th>\n",
       "      <th>g_x</th>\n",
       "      <th>m_A</th>\n",
       "      <th>spec</th>\n",
       "      <th>diff</th>\n",
       "    </tr>\n",
       "  </thead>\n",
       "  <tbody>\n",
       "    <tr>\n",
       "      <th>0</th>\n",
       "      <td>[1e-09, 1.00230569974896e-09, 1.00461671574925...</td>\n",
       "      <td>0.000102</td>\n",
       "      <td>1.000000</td>\n",
       "      <td>[1399873.6474421392, 1398701.1686751423, 13975...</td>\n",
       "      <td>2.680326</td>\n",
       "    </tr>\n",
       "    <tr>\n",
       "      <th>1</th>\n",
       "      <td>[1e-09, 1.00230569974896e-09, 1.00461671574925...</td>\n",
       "      <td>0.000102</td>\n",
       "      <td>0.932603</td>\n",
       "      <td>[1399873.6840631922, 1398701.2052703113, 13975...</td>\n",
       "      <td>2.680326</td>\n",
       "    </tr>\n",
       "    <tr>\n",
       "      <th>2</th>\n",
       "      <td>[1e-09, 1.00230569974896e-09, 1.00461671574925...</td>\n",
       "      <td>0.000102</td>\n",
       "      <td>0.869749</td>\n",
       "      <td>[1399873.7261693405, 1398701.2473466992, 13975...</td>\n",
       "      <td>2.680326</td>\n",
       "    </tr>\n",
       "    <tr>\n",
       "      <th>3</th>\n",
       "      <td>[1e-09, 1.00230569974896e-09, 1.00461671574925...</td>\n",
       "      <td>0.000102</td>\n",
       "      <td>0.811131</td>\n",
       "      <td>[1399873.7745822854, 1398701.2957254252, 13975...</td>\n",
       "      <td>2.680326</td>\n",
       "    </tr>\n",
       "    <tr>\n",
       "      <th>4</th>\n",
       "      <td>[1e-09, 1.00230569974896e-09, 1.00461671574925...</td>\n",
       "      <td>0.000102</td>\n",
       "      <td>0.756463</td>\n",
       "      <td>[1399873.8302468695, 1398701.3513506653, 13975...</td>\n",
       "      <td>2.680326</td>\n",
       "    </tr>\n",
       "    <tr>\n",
       "      <th>...</th>\n",
       "      <td>...</td>\n",
       "      <td>...</td>\n",
       "      <td>...</td>\n",
       "      <td>...</td>\n",
       "      <td>...</td>\n",
       "    </tr>\n",
       "    <tr>\n",
       "      <th>19995</th>\n",
       "      <td>[1e-09, 1.00230569974896e-09, 1.00461671574925...</td>\n",
       "      <td>0.000784</td>\n",
       "      <td>0.001322</td>\n",
       "      <td>[15709897459.95264, 15693873272.079021, 156778...</td>\n",
       "      <td>19182.532878</td>\n",
       "    </tr>\n",
       "    <tr>\n",
       "      <th>19996</th>\n",
       "      <td>[1e-09, 1.00230569974896e-09, 1.00461671574925...</td>\n",
       "      <td>0.000784</td>\n",
       "      <td>0.001233</td>\n",
       "      <td>[20513991948.64525, 20492516132.122036, 204709...</td>\n",
       "      <td>24131.236192</td>\n",
       "    </tr>\n",
       "    <tr>\n",
       "      <th>19997</th>\n",
       "      <td>[1e-09, 1.00230569974896e-09, 1.00461671574925...</td>\n",
       "      <td>0.000784</td>\n",
       "      <td>0.001150</td>\n",
       "      <td>[26741073639.9925, 26712263155.15236, 26683399...</td>\n",
       "      <td>30251.838147</td>\n",
       "    </tr>\n",
       "    <tr>\n",
       "      <th>19998</th>\n",
       "      <td>[1e-09, 1.00230569974896e-09, 1.00461671574925...</td>\n",
       "      <td>0.000784</td>\n",
       "      <td>0.001072</td>\n",
       "      <td>[34790245575.99046, 34751561185.14603, 3471280...</td>\n",
       "      <td>37787.215752</td>\n",
       "    </tr>\n",
       "    <tr>\n",
       "      <th>19999</th>\n",
       "      <td>[1e-09, 1.00230569974896e-09, 1.00461671574925...</td>\n",
       "      <td>0.000784</td>\n",
       "      <td>0.001000</td>\n",
       "      <td>[45161973958.53507, 45109993599.02923, 4505792...</td>\n",
       "      <td>47018.998186</td>\n",
       "    </tr>\n",
       "  </tbody>\n",
       "</table>\n",
       "<p>20000 rows × 5 columns</p>\n",
       "</div>"
      ],
      "text/plain": [
       "                                                     ERs       g_x       m_A  \\\n",
       "0      [1e-09, 1.00230569974896e-09, 1.00461671574925...  0.000102  1.000000   \n",
       "1      [1e-09, 1.00230569974896e-09, 1.00461671574925...  0.000102  0.932603   \n",
       "2      [1e-09, 1.00230569974896e-09, 1.00461671574925...  0.000102  0.869749   \n",
       "3      [1e-09, 1.00230569974896e-09, 1.00461671574925...  0.000102  0.811131   \n",
       "4      [1e-09, 1.00230569974896e-09, 1.00461671574925...  0.000102  0.756463   \n",
       "...                                                  ...       ...       ...   \n",
       "19995  [1e-09, 1.00230569974896e-09, 1.00461671574925...  0.000784  0.001322   \n",
       "19996  [1e-09, 1.00230569974896e-09, 1.00461671574925...  0.000784  0.001233   \n",
       "19997  [1e-09, 1.00230569974896e-09, 1.00461671574925...  0.000784  0.001150   \n",
       "19998  [1e-09, 1.00230569974896e-09, 1.00461671574925...  0.000784  0.001072   \n",
       "19999  [1e-09, 1.00230569974896e-09, 1.00461671574925...  0.000784  0.001000   \n",
       "\n",
       "                                                    spec          diff  \n",
       "0      [1399873.6474421392, 1398701.1686751423, 13975...      2.680326  \n",
       "1      [1399873.6840631922, 1398701.2052703113, 13975...      2.680326  \n",
       "2      [1399873.7261693405, 1398701.2473466992, 13975...      2.680326  \n",
       "3      [1399873.7745822854, 1398701.2957254252, 13975...      2.680326  \n",
       "4      [1399873.8302468695, 1398701.3513506653, 13975...      2.680326  \n",
       "...                                                  ...           ...  \n",
       "19995  [15709897459.95264, 15693873272.079021, 156778...  19182.532878  \n",
       "19996  [20513991948.64525, 20492516132.122036, 204709...  24131.236192  \n",
       "19997  [26741073639.9925, 26712263155.15236, 26683399...  30251.838147  \n",
       "19998  [34790245575.99046, 34751561185.14603, 3471280...  37787.215752  \n",
       "19999  [45161973958.53507, 45109993599.02923, 4505792...  47018.998186  \n",
       "\n",
       "[20000 rows x 5 columns]"
      ]
     },
     "execution_count": 45,
     "metadata": {},
     "output_type": "execute_result"
    }
   ],
   "source": [
    "df_MuTau"
   ]
  },
  {
   "cell_type": "code",
   "execution_count": 54,
   "id": "617212a5",
   "metadata": {},
   "outputs": [
    {
     "data": {
      "text/plain": [
       "[<matplotlib.lines.Line2D at 0x7fe44fa549d0>]"
      ]
     },
     "execution_count": 54,
     "metadata": {},
     "output_type": "execute_result"
    },
    {
     "data": {
      "image/png": "[encoded data removed]",
      "text/plain": [
       "<Figure size 432x288 with 1 Axes>"
      ]
     },
     "metadata": {
      "needs_background": "light"
     },
     "output_type": "display_data"
    }
   ],
   "source": [
    "plt.xlabel(r'$E_R\\,\\,\\,\\left[\\rm{keV}\\right]$', size=16)\n",
    "plt.ylabel(r'$\\rm{d}R/\\rm{d}E_R\\,\\,\\,\\left[\\rm{keV}^{-1}\\,\\,\\rm{ton}^{-1}\\,\\,\\rm{yr}^{-1}\\right]$', size=16)\n",
    "plt.loglog(df_MuTau.iloc[1998].ERs*1e6, df_MuTau.iloc[19998].spec)\n",
    "plt.loglog(sm_er*1e6, sm_spec) # sm only from 1e-2 whereas other spec are from 1e-3 - won't make a difference for PE spec!"
   ]
  },
  {
   "cell_type": "code",
   "execution_count": 46,
   "id": "d1a87e53",
   "metadata": {},
   "outputs": [
    {
     "data": {
      "image/png": "[encoded data removed]",
      "text/plain": [
       "<Figure size 432x288 with 2 Axes>"
      ]
     },
     "metadata": {
      "needs_background": "light"
     },
     "output_type": "display_data"
    }
   ],
   "source": [
    "# plotting the diff with gx and M\n",
    "plt.scatter(df_MuTau['g_x'].values, df_MuTau['m_A'].values, c=df_MuTau['diff'].values)\n",
    "plt.xlabel('$g_x$')\n",
    "plt.ylabel('$m_A$')\n",
    "plt.colorbar()\n",
    "plt.show()"
   ]
  },
  {
   "cell_type": "code",
   "execution_count": null,
   "id": "df9e7b96",
   "metadata": {},
   "outputs": [],
   "source": []
  }
 ],
 "metadata": {
  "kernelspec": {
   "display_name": "Python 3 (ipykernel)",
   "language": "python",
   "name": "python3"
  },
  "language_info": {
   "codemirror_mode": {
    "name": "ipython",
    "version": 3
   },
   "file_extension": ".py",
   "mimetype": "text/x-python",
   "name": "python",
   "nbconvert_exporter": "python",
   "pygments_lexer": "ipython3",
   "version": "3.9.7"
  }
 },
 "nbformat": 4,
 "nbformat_minor": 5
}
