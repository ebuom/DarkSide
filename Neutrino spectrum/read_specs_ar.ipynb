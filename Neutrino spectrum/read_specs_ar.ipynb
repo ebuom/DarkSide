{
 "cells": [
  {
   "cell_type": "code",
   "execution_count": 1,
   "metadata": {},
   "outputs": [],
   "source": [
    "import numpy as np\n",
    "import pandas as pd\n",
    "import glob\n",
    "import matplotlib.pyplot as plt"
   ]
  },
  {
   "cell_type": "code",
   "execution_count": 2,
   "metadata": {},
   "outputs": [],
   "source": [
    "LMuTaupaths = glob.glob('input/*')"
   ]
  },
  {
   "cell_type": "code",
   "execution_count": 3,
   "metadata": {},
   "outputs": [],
   "source": [
    "ERs, g_x, m_A, spec=np.load('input/params_0/spectra_Ar.npy', allow_pickle=True)"
   ]
  },
  {
   "cell_type": "code",
   "execution_count": 4,
   "metadata": {},
   "outputs": [
    {
     "data": {
      "text/plain": [
       "array([1399873.63638292, 1398701.15762374, 1397525.97546852, ...,\n",
       "             0.        ,       0.        ,       0.        ])"
      ]
     },
     "execution_count": 4,
     "metadata": {},
     "output_type": "execute_result"
    }
   ],
   "source": [
    "spec[0]"
   ]
  },
  {
   "cell_type": "markdown",
   "metadata": {},
   "source": [
    "Plotting one of the results"
   ]
  },
  {
   "cell_type": "code",
   "execution_count": 5,
   "metadata": {},
   "outputs": [
    {
     "data": {
      "text/plain": [
       "Text(0, 0.5, '$\\\\rm{d}R/\\\\rm{d}E_R\\\\,\\\\,\\\\,\\\\left[\\\\rm{keV}^{-1}\\\\,\\\\,\\\\rm{ton}^{-1}\\\\,\\\\,\\\\rm{yr}^{-1}\\\\right]$')"
      ]
     },
     "execution_count": 5,
     "metadata": {},
     "output_type": "execute_result"
    },
    {
     "data": {
      "image/png": "[encoded data removed]",
      "text/plain": [
       "<Figure size 432x288 with 1 Axes>"
      ]
     },
     "metadata": {
      "needs_background": "light"
     },
     "output_type": "display_data"
    }
   ],
   "source": [
    "plt.loglog(ERs*1e6, spec[0]) # remember ERs is in GeV\n",
    "\n",
    "plt.xlabel(r'$E_R\\,\\,\\,\\left[\\rm{keV}\\right]$', size=16)\n",
    "plt.ylabel(r'$\\rm{d}R/\\rm{d}E_R\\,\\,\\,\\left[\\rm{keV}^{-1}\\,\\,\\rm{ton}^{-1}\\,\\,\\rm{yr}^{-1}\\right]$', size=16)"
   ]
  },
  {
   "cell_type": "markdown",
   "metadata": {},
   "source": [
    "Putting is all in a pandas dataframe"
   ]
  },
  {
   "cell_type": "code",
   "execution_count": 16,
   "metadata": {},
   "outputs": [],
   "source": [
    "df_MuTau = pd.DataFrame()\n",
    "\n",
    "for p in LMuTaupaths:\n",
    "    filepath = p + '/spectra_Ar.npy'\n",
    "    ERs, g_x, m_A, spec=np.load(filepath, allow_pickle=True)\n",
    "    for i in range(len(m_A)):\n",
    "        temp_entry = {'ERs': ERs, 'g_x':g_x, 'm_A':m_A[i], 'spec':spec[i]}\n",
    "        #print(temp_entry)\n",
    "        df_MuTau = df_MuTau.append(temp_entry, ignore_index=True)"
   ]
  },
  {
   "cell_type": "markdown",
   "metadata": {},
   "source": [
    "How to use pandas dataframes"
   ]
  },
  {
   "cell_type": "code",
   "execution_count": 18,
   "metadata": {},
   "outputs": [
    {
     "data": {
      "text/html": [
       "<div>\n",
       "<style scoped>\n",
       "    .dataframe tbody tr th:only-of-type {\n",
       "        vertical-align: middle;\n",
       "    }\n",
       "\n",
       "    .dataframe tbody tr th {\n",
       "        vertical-align: top;\n",
       "    }\n",
       "\n",
       "    .dataframe thead th {\n",
       "        text-align: right;\n",
       "    }\n",
       "</style>\n",
       "<table border=\"1\" class=\"dataframe\">\n",
       "  <thead>\n",
       "    <tr style=\"text-align: right;\">\n",
       "      <th></th>\n",
       "      <th>ERs</th>\n",
       "      <th>g_x</th>\n",
       "      <th>m_A</th>\n",
       "      <th>spec</th>\n",
       "    </tr>\n",
       "  </thead>\n",
       "  <tbody>\n",
       "    <tr>\n",
       "      <th>0</th>\n",
       "      <td>[1e-09, 1.00230569974896e-09, 1.00461671574925...</td>\n",
       "      <td>0.001399</td>\n",
       "      <td>1.000000</td>\n",
       "      <td>[1399919.601348054, 1398747.0900356574, 139757...</td>\n",
       "    </tr>\n",
       "    <tr>\n",
       "      <th>1</th>\n",
       "      <td>[1e-09, 1.00230569974896e-09, 1.00461671574925...</td>\n",
       "      <td>0.001399</td>\n",
       "      <td>0.932603</td>\n",
       "      <td>[1399926.610670543, 1398754.0943828402, 139757...</td>\n",
       "    </tr>\n",
       "    <tr>\n",
       "      <th>2</th>\n",
       "      <td>[1e-09, 1.00230569974896e-09, 1.00461671574925...</td>\n",
       "      <td>0.001399</td>\n",
       "      <td>0.869749</td>\n",
       "      <td>[1399934.698915581, 1398762.1768831694, 139758...</td>\n",
       "    </tr>\n",
       "    <tr>\n",
       "      <th>3</th>\n",
       "      <td>[1e-09, 1.00230569974896e-09, 1.00461671574925...</td>\n",
       "      <td>0.001399</td>\n",
       "      <td>0.811131</td>\n",
       "      <td>[1399944.037068889, 1398771.5083993166, 139759...</td>\n",
       "    </tr>\n",
       "    <tr>\n",
       "      <th>4</th>\n",
       "      <td>[1e-09, 1.00230569974896e-09, 1.00461671574925...</td>\n",
       "      <td>0.001399</td>\n",
       "      <td>0.756463</td>\n",
       "      <td>[1399954.824751809, 1398782.2884086242, 139760...</td>\n",
       "    </tr>\n",
       "    <tr>\n",
       "      <th>...</th>\n",
       "      <td>...</td>\n",
       "      <td>...</td>\n",
       "      <td>...</td>\n",
       "      <td>...</td>\n",
       "    </tr>\n",
       "    <tr>\n",
       "      <th>19995</th>\n",
       "      <td>[1e-09, 1.00230569974896e-09, 1.00461671574925...</td>\n",
       "      <td>0.001804</td>\n",
       "      <td>0.001322</td>\n",
       "      <td>[439743444774.1393, 439294857757.8102, 4388453...</td>\n",
       "    </tr>\n",
       "    <tr>\n",
       "      <th>19996</th>\n",
       "      <td>[1e-09, 1.00230569974896e-09, 1.00461671574925...</td>\n",
       "      <td>0.001804</td>\n",
       "      <td>0.001233</td>\n",
       "      <td>[574257954819.0801, 573656716571.3054, 5730543...</td>\n",
       "    </tr>\n",
       "    <tr>\n",
       "      <th>19997</th>\n",
       "      <td>[1e-09, 1.00230569974896e-09, 1.00461671574925...</td>\n",
       "      <td>0.001804</td>\n",
       "      <td>0.001150</td>\n",
       "      <td>[748620190400.1936, 747813569808.7352, 7470054...</td>\n",
       "    </tr>\n",
       "    <tr>\n",
       "      <th>19998</th>\n",
       "      <td>[1e-09, 1.00230569974896e-09, 1.00461671574925...</td>\n",
       "      <td>0.001804</td>\n",
       "      <td>0.001072</td>\n",
       "      <td>[974006744804.0845, 972923634453.5034, 9718385...</td>\n",
       "    </tr>\n",
       "    <tr>\n",
       "      <th>19999</th>\n",
       "      <td>[1e-09, 1.00230569974896e-09, 1.00461671574925...</td>\n",
       "      <td>0.001804</td>\n",
       "      <td>0.001000</td>\n",
       "      <td>[1264432886869.829, 1262977456417.1533, 126151...</td>\n",
       "    </tr>\n",
       "  </tbody>\n",
       "</table>\n",
       "<p>20000 rows × 4 columns</p>\n",
       "</div>"
      ],
      "text/plain": [
       "                                                     ERs       g_x       m_A  \\\n",
       "0      [1e-09, 1.00230569974896e-09, 1.00461671574925...  0.001399  1.000000   \n",
       "1      [1e-09, 1.00230569974896e-09, 1.00461671574925...  0.001399  0.932603   \n",
       "2      [1e-09, 1.00230569974896e-09, 1.00461671574925...  0.001399  0.869749   \n",
       "3      [1e-09, 1.00230569974896e-09, 1.00461671574925...  0.001399  0.811131   \n",
       "4      [1e-09, 1.00230569974896e-09, 1.00461671574925...  0.001399  0.756463   \n",
       "...                                                  ...       ...       ...   \n",
       "19995  [1e-09, 1.00230569974896e-09, 1.00461671574925...  0.001804  0.001322   \n",
       "19996  [1e-09, 1.00230569974896e-09, 1.00461671574925...  0.001804  0.001233   \n",
       "19997  [1e-09, 1.00230569974896e-09, 1.00461671574925...  0.001804  0.001150   \n",
       "19998  [1e-09, 1.00230569974896e-09, 1.00461671574925...  0.001804  0.001072   \n",
       "19999  [1e-09, 1.00230569974896e-09, 1.00461671574925...  0.001804  0.001000   \n",
       "\n",
       "                                                    spec  \n",
       "0      [1399919.601348054, 1398747.0900356574, 139757...  \n",
       "1      [1399926.610670543, 1398754.0943828402, 139757...  \n",
       "2      [1399934.698915581, 1398762.1768831694, 139758...  \n",
       "3      [1399944.037068889, 1398771.5083993166, 139759...  \n",
       "4      [1399954.824751809, 1398782.2884086242, 139760...  \n",
       "...                                                  ...  \n",
       "19995  [439743444774.1393, 439294857757.8102, 4388453...  \n",
       "19996  [574257954819.0801, 573656716571.3054, 5730543...  \n",
       "19997  [748620190400.1936, 747813569808.7352, 7470054...  \n",
       "19998  [974006744804.0845, 972923634453.5034, 9718385...  \n",
       "19999  [1264432886869.829, 1262977456417.1533, 126151...  \n",
       "\n",
       "[20000 rows x 4 columns]"
      ]
     },
     "execution_count": 18,
     "metadata": {},
     "output_type": "execute_result"
    }
   ],
   "source": [
    "df_MuTau"
   ]
  },
  {
   "cell_type": "markdown",
   "metadata": {},
   "source": [
    "Pick $g_x$ of a given value"
   ]
  },
  {
   "cell_type": "code",
   "execution_count": 25,
   "metadata": {},
   "outputs": [
    {
     "data": {
      "text/html": [
       "<div>\n",
       "<style scoped>\n",
       "    .dataframe tbody tr th:only-of-type {\n",
       "        vertical-align: middle;\n",
       "    }\n",
       "\n",
       "    .dataframe tbody tr th {\n",
       "        vertical-align: top;\n",
       "    }\n",
       "\n",
       "    .dataframe thead th {\n",
       "        text-align: right;\n",
       "    }\n",
       "</style>\n",
       "<table border=\"1\" class=\"dataframe\">\n",
       "  <thead>\n",
       "    <tr style=\"text-align: right;\">\n",
       "      <th></th>\n",
       "      <th>ERs</th>\n",
       "      <th>g_x</th>\n",
       "      <th>m_A</th>\n",
       "      <th>spec</th>\n",
       "    </tr>\n",
       "  </thead>\n",
       "  <tbody>\n",
       "    <tr>\n",
       "      <th>7100</th>\n",
       "      <td>[1e-09, 1.00230569974896e-09, 1.00461671574925...</td>\n",
       "      <td>0.01</td>\n",
       "      <td>1.000000</td>\n",
       "      <td>[1403585.435021477, 1402410.160488815, 1401232...</td>\n",
       "    </tr>\n",
       "    <tr>\n",
       "      <th>7101</th>\n",
       "      <td>[1e-09, 1.00230569974896e-09, 1.00461671574925...</td>\n",
       "      <td>0.01</td>\n",
       "      <td>0.932603</td>\n",
       "      <td>[1404378.5335348942, 1403202.642971058, 140202...</td>\n",
       "    </tr>\n",
       "    <tr>\n",
       "      <th>7102</th>\n",
       "      <td>[1e-09, 1.00230569974896e-09, 1.00461671574925...</td>\n",
       "      <td>0.01</td>\n",
       "      <td>0.869749</td>\n",
       "      <td>[1405366.767152499, 1404190.1047771163, 140301...</td>\n",
       "    </tr>\n",
       "    <tr>\n",
       "      <th>7103</th>\n",
       "      <td>[1e-09, 1.00230569974896e-09, 1.00461671574925...</td>\n",
       "      <td>0.01</td>\n",
       "      <td>0.811131</td>\n",
       "      <td>[1406603.943122605, 1405426.3093746544, 140424...</td>\n",
       "    </tr>\n",
       "    <tr>\n",
       "      <th>7104</th>\n",
       "      <td>[1e-09, 1.00230569974896e-09, 1.00461671574925...</td>\n",
       "      <td>0.01</td>\n",
       "      <td>0.756463</td>\n",
       "      <td>[1408159.8414317276, 1406980.979828909, 140579...</td>\n",
       "    </tr>\n",
       "    <tr>\n",
       "      <th>...</th>\n",
       "      <td>...</td>\n",
       "      <td>...</td>\n",
       "      <td>...</td>\n",
       "      <td>...</td>\n",
       "    </tr>\n",
       "    <tr>\n",
       "      <th>7195</th>\n",
       "      <td>[1e-09, 1.00230569974896e-09, 1.00461671574925...</td>\n",
       "      <td>0.01</td>\n",
       "      <td>0.001322</td>\n",
       "      <td>[414981806016165.3, 414558470025974.25, 414134...</td>\n",
       "    </tr>\n",
       "    <tr>\n",
       "      <th>7196</th>\n",
       "      <td>[1e-09, 1.00230569974896e-09, 1.00461671574925...</td>\n",
       "      <td>0.01</td>\n",
       "      <td>0.001233</td>\n",
       "      <td>[541928516053647.2, 541361115775289.44, 540792...</td>\n",
       "    </tr>\n",
       "    <tr>\n",
       "      <th>7197</th>\n",
       "      <td>[1e-09, 1.00230569974896e-09, 1.00461671574925...</td>\n",
       "      <td>0.01</td>\n",
       "      <td>0.001150</td>\n",
       "      <td>[706481992032543.4, 705720761723219.5, 7049581...</td>\n",
       "    </tr>\n",
       "    <tr>\n",
       "      <th>7198</th>\n",
       "      <td>[1e-09, 1.00230569974896e-09, 1.00461671574925...</td>\n",
       "      <td>0.01</td>\n",
       "      <td>0.001072</td>\n",
       "      <td>[919190396806771.4, 918168227682254.1, 9171442...</td>\n",
       "    </tr>\n",
       "    <tr>\n",
       "      <th>7199</th>\n",
       "      <td>[1e-09, 1.00230569974896e-09, 1.00461671574925...</td>\n",
       "      <td>0.01</td>\n",
       "      <td>0.001000</td>\n",
       "      <td>[1193280973109717.8, 1191907423552773.2, 11905...</td>\n",
       "    </tr>\n",
       "  </tbody>\n",
       "</table>\n",
       "<p>100 rows × 4 columns</p>\n",
       "</div>"
      ],
      "text/plain": [
       "                                                    ERs   g_x       m_A  \\\n",
       "7100  [1e-09, 1.00230569974896e-09, 1.00461671574925...  0.01  1.000000   \n",
       "7101  [1e-09, 1.00230569974896e-09, 1.00461671574925...  0.01  0.932603   \n",
       "7102  [1e-09, 1.00230569974896e-09, 1.00461671574925...  0.01  0.869749   \n",
       "7103  [1e-09, 1.00230569974896e-09, 1.00461671574925...  0.01  0.811131   \n",
       "7104  [1e-09, 1.00230569974896e-09, 1.00461671574925...  0.01  0.756463   \n",
       "...                                                 ...   ...       ...   \n",
       "7195  [1e-09, 1.00230569974896e-09, 1.00461671574925...  0.01  0.001322   \n",
       "7196  [1e-09, 1.00230569974896e-09, 1.00461671574925...  0.01  0.001233   \n",
       "7197  [1e-09, 1.00230569974896e-09, 1.00461671574925...  0.01  0.001150   \n",
       "7198  [1e-09, 1.00230569974896e-09, 1.00461671574925...  0.01  0.001072   \n",
       "7199  [1e-09, 1.00230569974896e-09, 1.00461671574925...  0.01  0.001000   \n",
       "\n",
       "                                                   spec  \n",
       "7100  [1403585.435021477, 1402410.160488815, 1401232...  \n",
       "7101  [1404378.5335348942, 1403202.642971058, 140202...  \n",
       "7102  [1405366.767152499, 1404190.1047771163, 140301...  \n",
       "7103  [1406603.943122605, 1405426.3093746544, 140424...  \n",
       "7104  [1408159.8414317276, 1406980.979828909, 140579...  \n",
       "...                                                 ...  \n",
       "7195  [414981806016165.3, 414558470025974.25, 414134...  \n",
       "7196  [541928516053647.2, 541361115775289.44, 540792...  \n",
       "7197  [706481992032543.4, 705720761723219.5, 7049581...  \n",
       "7198  [919190396806771.4, 918168227682254.1, 9171442...  \n",
       "7199  [1193280973109717.8, 1191907423552773.2, 11905...  \n",
       "\n",
       "[100 rows x 4 columns]"
      ]
     },
     "execution_count": 25,
     "metadata": {},
     "output_type": "execute_result"
    }
   ],
   "source": [
    "df_MuTau[df_MuTau['g_x']==0.01]"
   ]
  },
  {
   "cell_type": "markdown",
   "metadata": {},
   "source": [
    "Or two values "
   ]
  },
  {
   "cell_type": "code",
   "execution_count": 32,
   "metadata": {},
   "outputs": [
    {
     "data": {
      "text/html": [
       "<div>\n",
       "<style scoped>\n",
       "    .dataframe tbody tr th:only-of-type {\n",
       "        vertical-align: middle;\n",
       "    }\n",
       "\n",
       "    .dataframe tbody tr th {\n",
       "        vertical-align: top;\n",
       "    }\n",
       "\n",
       "    .dataframe thead th {\n",
       "        text-align: right;\n",
       "    }\n",
       "</style>\n",
       "<table border=\"1\" class=\"dataframe\">\n",
       "  <thead>\n",
       "    <tr style=\"text-align: right;\">\n",
       "      <th></th>\n",
       "      <th>ERs</th>\n",
       "      <th>g_x</th>\n",
       "      <th>m_A</th>\n",
       "      <th>spec</th>\n",
       "    </tr>\n",
       "  </thead>\n",
       "  <tbody>\n",
       "    <tr>\n",
       "      <th>7100</th>\n",
       "      <td>[1e-09, 1.00230569974896e-09, 1.00461671574925...</td>\n",
       "      <td>0.01</td>\n",
       "      <td>1.0</td>\n",
       "      <td>[1403585.435021477, 1402410.160488815, 1401232...</td>\n",
       "    </tr>\n",
       "  </tbody>\n",
       "</table>\n",
       "</div>"
      ],
      "text/plain": [
       "                                                    ERs   g_x  m_A  \\\n",
       "7100  [1e-09, 1.00230569974896e-09, 1.00461671574925...  0.01  1.0   \n",
       "\n",
       "                                                   spec  \n",
       "7100  [1403585.435021477, 1402410.160488815, 1401232...  "
      ]
     },
     "execution_count": 32,
     "metadata": {},
     "output_type": "execute_result"
    }
   ],
   "source": [
    "df_MuTau[(df_MuTau['g_x']==0.01) & (df_MuTau['m_A']==1.0)]"
   ]
  },
  {
   "cell_type": "markdown",
   "metadata": {},
   "source": [
    "Read the spectrum "
   ]
  },
  {
   "cell_type": "code",
   "execution_count": 33,
   "metadata": {},
   "outputs": [
    {
     "data": {
      "text/plain": [
       "7100    [1403585.435021477, 1402410.160488815, 1401232...\n",
       "Name: spec, dtype: object"
      ]
     },
     "execution_count": 33,
     "metadata": {},
     "output_type": "execute_result"
    }
   ],
   "source": [
    "df_MuTau[(df_MuTau['g_x']==0.01) & (df_MuTau['m_A']==1.0)]['spec']"
   ]
  },
  {
   "cell_type": "code",
   "execution_count": 46,
   "metadata": {},
   "outputs": [
    {
     "data": {
      "text/plain": [
       "array([1.00000000e-09, 1.00230570e-09, 1.00461672e-09, ...,\n",
       "       9.95404500e-05, 9.97699604e-05, 1.00000000e-04])"
      ]
     },
     "execution_count": 46,
     "metadata": {},
     "output_type": "execute_result"
    }
   ],
   "source": [
    "df_MuTau[(df_MuTau['g_x']==0.01) & (df_MuTau['m_A']==1.0)]['ERs'].values[0]"
   ]
  },
  {
   "cell_type": "code",
   "execution_count": 47,
   "metadata": {},
   "outputs": [
    {
     "data": {
      "text/plain": [
       "[<matplotlib.lines.Line2D at 0x7f4d29af9f40>]"
      ]
     },
     "execution_count": 47,
     "metadata": {},
     "output_type": "execute_result"
    },
    {
     "data": {
      "image/png": "[encoded data removed]",
      "text/plain": [
       "<Figure size 432x288 with 1 Axes>"
      ]
     },
     "metadata": {
      "needs_background": "light"
     },
     "output_type": "display_data"
    }
   ],
   "source": [
    "plt.loglog(df_MuTau[(df_MuTau['g_x']==0.01) & (df_MuTau['m_A']==1.0)]['ERs'].values[0],\n",
    "           df_MuTau[(df_MuTau['g_x']==0.01) & (df_MuTau['m_A']==1.0)]['spec'].values[0])\n"
   ]
  },
  {
   "cell_type": "code",
   "execution_count": null,
   "metadata": {},
   "outputs": [],
   "source": []
  }
 ],
 "metadata": {
  "kernelspec": {
   "display_name": "Python 3 (ipykernel)",
   "language": "python",
   "name": "python3"
  },
  "language_info": {
   "codemirror_mode": {
    "name": "ipython",
    "version": 3
   },
   "file_extension": ".py",
   "mimetype": "text/x-python",
   "name": "python",
   "nbconvert_exporter": "python",
   "pygments_lexer": "ipython3",
   "version": "3.8.8"
  }
 },
 "nbformat": 4,
 "nbformat_minor": 4
}
