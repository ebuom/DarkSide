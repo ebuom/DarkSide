{
 "cells": [
  {
   "cell_type": "markdown",
   "metadata": {},
   "source": [
    "**Binned profile likelihood ratio analysis for DS20k using a asmptotic gaussian likelihood**"
   ]
  },
  {
   "cell_type": "code",
   "execution_count": 1,
   "metadata": {},
   "outputs": [
    {
     "ename": "ModuleNotFoundError",
     "evalue": "No module named 'uproot'",
     "output_type": "error",
     "traceback": [
      "\u001b[0;31m---------------------------------------------------------------------------\u001b[0m",
      "\u001b[0;31mModuleNotFoundError\u001b[0m                       Traceback (most recent call last)",
      "\u001b[0;32m<ipython-input-1-3c381d4657a4>\u001b[0m in \u001b[0;36m<module>\u001b[0;34m\u001b[0m\n\u001b[1;32m      1\u001b[0m \u001b[0;32mimport\u001b[0m \u001b[0mnumpy\u001b[0m      \u001b[0;32mas\u001b[0m \u001b[0mnp\u001b[0m\u001b[0;34m\u001b[0m\u001b[0;34m\u001b[0m\u001b[0m\n\u001b[1;32m      2\u001b[0m \u001b[0;32mimport\u001b[0m \u001b[0mmath\u001b[0m\u001b[0;34m\u001b[0m\u001b[0;34m\u001b[0m\u001b[0m\n\u001b[0;32m----> 3\u001b[0;31m \u001b[0;32mimport\u001b[0m \u001b[0muproot\u001b[0m\u001b[0;34m\u001b[0m\u001b[0;34m\u001b[0m\u001b[0m\n\u001b[0m\u001b[1;32m      4\u001b[0m \u001b[0;32mimport\u001b[0m \u001b[0muproot_methods\u001b[0m\u001b[0;34m\u001b[0m\u001b[0;34m\u001b[0m\u001b[0m\n\u001b[1;32m      5\u001b[0m \u001b[0;32mfrom\u001b[0m   \u001b[0mscipy\u001b[0m      \u001b[0;32mimport\u001b[0m \u001b[0mstats\u001b[0m\u001b[0;34m\u001b[0m\u001b[0;34m\u001b[0m\u001b[0m\n",
      "\u001b[0;31mModuleNotFoundError\u001b[0m: No module named 'uproot'"
     ]
    }
   ],
   "source": [
    "import numpy      as np\n",
    "import math\n",
    "import uproot\n",
    "import uproot_methods\n",
    "from   scipy      import stats\n",
    "from scipy.special import factorial\n",
    "from   matplotlib import pyplot as plt\n",
    "from   matplotlib import patches\n",
    "from   iminuit    import Minuit\n",
    "import collections\n",
    "import matplotlib\n",
    "from matplotlib import rc\n"
   ]
  },
  {
   "cell_type": "code",
   "execution_count": 2,
   "metadata": {},
   "outputs": [],
   "source": [
    "# use a 100tonneyear exposure\n",
    "ds20k_exposure = 365*1000*100\n",
    "ds20k_exposure_tonneyear = 100 \n",
    "\n",
    "# the data is in number of electrons. use a 4e- threshold\n",
    "ds20k_firstbin = 4\n",
    "ds20k_lastbin = 50\n",
    "expected=True\n",
    "correlated=True\n",
    "\n",
    "operater = '1'\n",
    "xsection_data = 1e-40\n",
    "\n"
   ]
  },
  {
   "cell_type": "code",
   "execution_count": 4,
   "metadata": {},
   "outputs": [],
   "source": [
    "# import the darkside backgrounds \n",
    "# these are already scaled to the 100 tonneyear exposure\n",
    "\n",
    "ds20k_ar39bkgrd = np.loadtxt('ds20k-39Ar_bkgrd.dat',delimiter=' ')[ds20k_firstbin:ds20k_lastbin,1]\n",
    "ds20k_ar39bkgrd_p = np.loadtxt('ds20k-39Ar_bkgrd-p.dat',delimiter=' ')[ds20k_firstbin:ds20k_lastbin,1]\n",
    "ds20k_ar39bkgrd_m = np.loadtxt('ds20k-39Ar_bkgrd-m.dat',delimiter=' ')[ds20k_firstbin:ds20k_lastbin,1]\n",
    "ds20k_ar39bkgrd_dplus = ds20k_ar39bkgrd_p - ds20k_ar39bkgrd\n",
    "ds20k_ar39bkgrd_dminus = ds20k_ar39bkgrd_m - ds20k_ar39bkgrd\n",
    "\n",
    "ds20k_gammabkgrd = np.loadtxt('ds20k-gamma_bkgrd.dat',delimiter=' ')[ds20k_firstbin:ds20k_lastbin,1]\n",
    "ds20k_gammabkgrd_p = np.loadtxt('ds20k-gamma_bkgrd-p.dat',delimiter=' ')[ds20k_firstbin:ds20k_lastbin,1]\n",
    "ds20k_gammabkgrd_m = np.loadtxt('ds20k-gamma_bkgrd-m.dat',delimiter=' ')[ds20k_firstbin:ds20k_lastbin,1]\n",
    "ds20k_gammabkgrd_dplus = ds20k_gammabkgrd_p - ds20k_gammabkgrd\n",
    "ds20k_gammabkgrd_dminus = ds20k_gammabkgrd_m - ds20k_gammabkgrd\n",
    "\n",
    "ds20k_cennsbkgrd = np.loadtxt('ds20k-cenns_bkgrd.dat',delimiter=' ')[ds20k_firstbin:ds20k_lastbin,1]\n",
    "ds20k_cennsbkgrd_p = np.loadtxt('ds20k-cenns_bkgrd-p.dat',delimiter=' ')[ds20k_firstbin:ds20k_lastbin,1]\n",
    "ds20k_cennsbkgrd_m = np.loadtxt('ds20k-cenns_bkgrd-m.dat',delimiter=' ')[ds20k_firstbin:ds20k_lastbin,1]\n",
    "ds20k_cennsbkgrd_dplus = ds20k_cennsbkgrd_p - ds20k_cennsbkgrd\n",
    "ds20k_cennsbkgrd_dminus = ds20k_cennsbkgrd_m - ds20k_cennsbkgrd"
   ]
  },
  {
   "cell_type": "code",
   "execution_count": 5,
   "metadata": {},
   "outputs": [],
   "source": [
    "bins = np.loadtxt('ds20k-39Ar_bkgrd.dat',delimiter=' ')[ds20k_firstbin:ds20k_lastbin,0]\n",
    "#plt.bar(bins,gammabkgrd,width=1,color='orangered',log=True,alpha=0.7,label='SiPM gamma background') #/widths\n",
    "#plt.bar(bins,cennsbkgrd,width=1,color='tab:purple',log=True,alpha=0.7,label='CEvNS background',bottom=gammabkgrd)\n",
    "\n",
    "#plt.bar(bins,ar39bkgrd,width=1,color='limegreen',log=True,bottom=cennsbkgrd+gammabkgrd,alpha=0.7,label='39Ar background')\n"
   ]
  },
  {
   "cell_type": "code",
   "execution_count": 6,
   "metadata": {},
   "outputs": [],
   "source": [
    "ds20k_SM_prediction = (ds20k_ar39bkgrd + ds20k_gammabkgrd + ds20k_cennsbkgrd) \n",
    "\n",
    "# include a 15% correlated uncertainty on each background component\n",
    "ds20k_ar39_uncertainty = 0.15*ds20k_ar39bkgrd\n",
    "ds20k_gamma_uncertainty = 0.15*ds20k_gammabkgrd\n",
    "ds20k_cenns_uncertainty = 0.15*ds20k_cennsbkgrd\n",
    "\n",
    "# as this is a projection, we put the 'observed' = to the predicted backgrounds\n",
    "# eg. we assume no dark matter is observed, we just observed the predicted SM rate\n",
    "ds20k_measured_values = ds20k_SM_prediction\n",
    "\n",
    "# statistical uncertainty on observed\n",
    "ds20k_data_stat_uncertainties = ds20k_measured_values**0.5\n"
   ]
  },
  {
   "cell_type": "code",
   "execution_count": 7,
   "metadata": {},
   "outputs": [],
   "source": [
    "def construct_covariance (uncertainty_amplitudes, correlation_matrix) :\n",
    "    num_measurements = len(uncertainty_amplitudes)\n",
    "    if (type(correlation_matrix) is int) and (correlation_matrix == 0) :\n",
    "        correlation_matrix = np.eye(num_measurements)\n",
    "    if (type(correlation_matrix) is int) and (correlation_matrix == 1) :\n",
    "        correlation_matrix = np.ones(shape=(num_measurements,num_measurements))\n",
    "    covariance_matrix = np.zeros(shape=(num_measurements, num_measurements))\n",
    "    for i, ex in enumerate(uncertainty_amplitudes) :\n",
    "        for j, ey in enumerate(uncertainty_amplitudes) :\n",
    "            covariance_matrix[i, j] = correlation_matrix[i, j]*ex*ey\n",
    "    return covariance_matrix"
   ]
  },
  {
   "cell_type": "code",
   "execution_count": 8,
   "metadata": {},
   "outputs": [],
   "source": [
    "ds20k_ar39_covariance  = construct_covariance(ds20k_ar39_uncertainty, 1) # 1 or 0 depending on whether uncertainty is correlated\n",
    "ds20k_gamma_covariance = construct_covariance(ds20k_gamma_uncertainty, 1)\n",
    "ds20k_cenns_covariance  = construct_covariance(ds20k_cenns_uncertainty, 1)\n",
    "\n",
    "ds20k_data_stat_covariance = construct_covariance(ds20k_data_stat_uncertainties, 0)\n",
    "\n",
    "# now get the total covariance and inverse/det for use in likelihood calc\n",
    "ds20k_data_plus_SM_covariance  = ds20k_ar39_covariance + ds20k_gamma_covariance + ds20k_cenns_covariance + ds20k_data_stat_covariance\n",
    "ds20k_data_plus_SM_cov_inverse = np.linalg.inv(ds20k_data_plus_SM_covariance)\n",
    "ds20k_data_plus_SM_cov_det     = np.linalg.det(ds20k_data_plus_SM_covariance)"
   ]
  },
  {
   "cell_type": "code",
   "execution_count": 9,
   "metadata": {},
   "outputs": [],
   "source": [
    "#######################################################"
   ]
  },
  {
   "cell_type": "code",
   "execution_count": 10,
   "metadata": {},
   "outputs": [],
   "source": [
    "# use this to load in dark matter spectra and bin correctly\n",
    "\n",
    "def get_dm_spectra(op,specnum,scaling):\n",
    "\n",
    "    filename = './DS50/Ar_O%s/spectra_ds20k_Ar_O%s_%i.root'%(op,op,specnum)\n",
    "    exposure = ds20k_exposure\n",
    "        \n",
    "    dmdata = uproot.open(filename)\n",
    "    hist = dmdata[\"hSum%i\"%specnum]\n",
    "    dmevents_perc = np.array(hist.values(),dtype='float64')*exposure*scaling\n",
    "\n",
    "    # also have the spectra that correspond to an energy shift of +/-1 sigma\n",
    "    hist_p = dmdata[\"hSum_p%i\"%specnum]\n",
    "    dmevents_perc_p = np.array(hist_p.values(),dtype='float64')*exposure*scaling\n",
    "\n",
    "    hist_m = dmdata[\"hSum_m%i\"%specnum]\n",
    "    dmevents_perc_m = np.array(hist_m.values(),dtype='float64')*exposure*scaling\n",
    "\n",
    "    BSM_prediction_per_c = [] #dmevents_perc\n",
    "    BSM_prediction_per_c_p = [] #dmevents_perc\n",
    "    BSM_prediction_per_c_m = [] #dmevents_perc\n",
    "\n",
    "    \n",
    "    # the data in these files in binned in half e-, so we need to combine adjacent bins to get 1e- binning\n",
    "    for i in range(int(len(dmevents_perc)/2)) :\n",
    "        BSM_prediction_per_c.append((dmevents_perc[i*2]+dmevents_perc[i*2+1])) # joint adjacent bins as they are 0.5 e wide ( to make them 1e- wide)\n",
    "        BSM_prediction_per_c_p.append((dmevents_perc_p[i*2]+dmevents_perc_p[i*2+1])) \n",
    "        BSM_prediction_per_c_m.append((dmevents_perc_m[i*2]+dmevents_perc_m[i*2+1])) \n",
    "\n",
    "\n",
    "    BSM_prediction_per_c=np.array(BSM_prediction_per_c)[ds20k_firstbin:ds20k_lastbin]\n",
    "    BSM_prediction_per_c_p=np.array(BSM_prediction_per_c_p)[ds20k_firstbin:ds20k_lastbin]\n",
    "    BSM_prediction_per_c_m=np.array(BSM_prediction_per_c_m)[ds20k_firstbin:ds20k_lastbin]\n",
    "        \n",
    "    # for use in likelihood NP \n",
    "    dplus = BSM_prediction_per_c_p-BSM_prediction_per_c\n",
    "    dminus = BSM_prediction_per_c_m-BSM_prediction_per_c\n",
    "    \n",
    "    return BSM_prediction_per_c,dplus,dminus"
   ]
  },
  {
   "cell_type": "code",
   "execution_count": 11,
   "metadata": {},
   "outputs": [
    {
     "name": "stdout",
     "output_type": "stream",
     "text": [
      "[2.74186243e+02 1.95809606e+02 1.91967266e+02 2.44319729e+02\n",
      " 2.84757696e+02 2.77597883e+02 2.41795733e+02 1.87524415e+02\n",
      " 1.39597821e+02 9.78337913e+01 6.85893993e+01 4.63072227e+01\n",
      " 3.25742143e+01 2.20305489e+01 1.50343715e+01 1.05282281e+01\n",
      " 7.60131895e+00 4.91060024e+00 3.50889480e+00 2.38506047e+00\n",
      " 1.76756909e+00 1.25350751e+00 8.25894727e-01 5.58829703e-01\n",
      " 3.84388387e-01 2.25384356e-01 1.99140972e-01 1.31216919e-01\n",
      " 8.95362508e-02 7.87301516e-02 3.24182977e-02 2.31559269e-02\n",
      " 1.54372846e-02 9.26237078e-03 9.26237078e-03 1.08060992e-02\n",
      " 4.63118539e-03 4.63118539e-03 0.00000000e+00 1.54372846e-03\n",
      " 3.08745693e-03 1.54372846e-03 0.00000000e+00 0.00000000e+00\n",
      " 0.00000000e+00 0.00000000e+00]\n"
     ]
    }
   ],
   "source": [
    "print (get_dm_spectra(1,15,1) [0] )"
   ]
  },
  {
   "cell_type": "code",
   "execution_count": 12,
   "metadata": {},
   "outputs": [],
   "source": [
    "\n",
    "def get_ds20k_dm_prediction (c,ds20k_BSM_prediction_per_c,energyscaleAr_NP) :\n",
    "    n = ds20k_BSM_prediction_per_c[0]\n",
    "    dplus = ds20k_BSM_prediction_per_c[1]\n",
    "    dmimus = ds20k_BSM_prediction_per_c[2]\n",
    "        \n",
    "    dm_shifted = n\n",
    "    if energyscaleAr_NP>0 : dm_shifted = n + energyscaleAr_NP * dplus\n",
    "    if energyscaleAr_NP<0 : dm_shifted = n + energyscaleAr_NP * dmimus\n",
    "\n",
    "    return dm_shifted\n",
    "\n",
    "def get_ds20k_sm_prediction (energyscaleAr_NP) :\n",
    "    #sm_shifted = ds20k_ar39bkgrd + ds20k_gammabkgrd + ds20k_cennsbkgrd\n",
    "    ar = ds20k_ar39bkgrd; gam = ds20k_gammabkgrd; cen = ds20k_cennsbkgrd\n",
    "    if energyscaleAr_NP>0 : \n",
    "        ar = ds20k_ar39bkgrd + energyscaleAr_NP * ds20k_ar39bkgrd_dplus\n",
    "        gam = ds20k_gammabkgrd + energyscaleAr_NP * ds20k_gammabkgrd_dplus\n",
    "        cen = ds20k_cennsbkgrd + energyscaleAr_NP * ds20k_cennsbkgrd_dplus\n",
    "        \n",
    "    if energyscaleAr_NP<0 : \n",
    "        ar = ds20k_ar39bkgrd + energyscaleAr_NP * ds20k_ar39bkgrd_dminus\n",
    "        gam = ds20k_gammabkgrd + energyscaleAr_NP * ds20k_gammabkgrd_dminus\n",
    "        cen = ds20k_cennsbkgrd + energyscaleAr_NP * ds20k_cennsbkgrd_dminus\n",
    "        \n",
    "    sm_shifted = ar + gam + cen\n",
    "    return sm_shifted, ar, gam, cen\n",
    "\n",
    "def get_ds20k_prediction (c,ds20k_BSM_prediction_per_c,energyscaleAr_NP) :\n",
    "    return c*get_ds20k_dm_prediction(c,ds20k_BSM_prediction_per_c,energyscaleAr_NP) +get_ds20k_sm_prediction(energyscaleAr_NP)[0]\n",
    "\n",
    "\n",
    "def get_ds20k_chi2 (measurement, c, ds20k_BSM_prediction_per_c,energyscaleAr_NP,cov_inverse) :\n",
    "    residual = measurement - get_ds20k_prediction(c,ds20k_BSM_prediction_per_c,energyscaleAr_NP)\n",
    "    return np.matmul(residual, np.matmul(cov_inverse, residual))\n",
    "\n",
    "#  Brief: return the likelihood, for given values of c, data_NP and BSM_NP\n",
    "#\n",
    "def get_ds20k_likelihood (measurement, c, ds20k_BSM_prediction_per_c,energyscaleAr_NP) :\n",
    "    #ds20k_data_plus_SM_cov_det,ds20k_data_plus_SM_cov_inverse = get_cov(energyscaleAr_NP)\n",
    "    \n",
    "    norm_factor        = 1. / np.power(np.sqrt(2*np.pi), len(measurement)) / ds20k_data_plus_SM_cov_det\n",
    "    NP_constraint = stats.norm.pdf(energyscaleAr_NP)\n",
    "    return norm_factor * np.exp(-0.5*get_ds20k_chi2(measurement, c, ds20k_BSM_prediction_per_c,energyscaleAr_NP,ds20k_data_plus_SM_cov_inverse)) * NP_constraint\n",
    "   \n",
    "#  Brief: return -2logL, for given values of c, data_NP and BSM_NP\n",
    "#\n",
    "def get_ds20k_TNLL (measurement, c, ds20k_BSM_prediction_per_c,energyscaleAr_NP) :\n",
    "    return -2. * np.log(get_ds20k_likelihood (measurement, c, ds20k_BSM_prediction_per_c,energyscaleAr_NP))\n",
    "\n",
    "\n"
   ]
  },
  {
   "cell_type": "code",
   "execution_count": 13,
   "metadata": {},
   "outputs": [],
   "source": [
    "##### combined likelihood ###########\n",
    "# for energy scale, change it so that 'bsm_prediction' is actually an array of three spectra\n",
    "# normal, scaled up (p for plus), and scaled down (m for minus)\n",
    "# these dont need to be separated out until get_prediction where the energy scale shift is applied\n",
    "\n",
    "\n",
    "\n",
    "def get_loglikelihood_from_fit_params (ds20k_measurement, ds20k_BSM_prediction_per_c, params) :\n",
    "    c, energyscaleAr_NP = params[0],params[1]\n",
    "        \n",
    "    darkside_log_likelihood = get_ds20k_TNLL (ds20k_measurement, c, ds20k_BSM_prediction_per_c,energyscaleAr_NP)\n",
    "        \n",
    "    return darkside_log_likelihood \n",
    "\n",
    "def get_argmin_TNLL (ds20k_measurement, ds20k_BSM_prediction_per_c,\n",
    "                              c=None, energyscaleAr_NP=None, \n",
    "                              minos=None, precision=None) :\n",
    "    fix_c, fix_energyscaleAr_NP = False, False\n",
    "    if type(c)       == type(None) : c           = 0.\n",
    "    else                           : fix_c       = True\n",
    "    if type(energyscaleAr_NP) == type(None) : energyscaleAr_NP     = 0.\n",
    "    else                           : fix_energyscaleAr_NP = True\n",
    "         \n",
    "    fit_func = lambda params : get_loglikelihood_from_fit_params(ds20k_measurement,\n",
    "                                                ds20k_BSM_prediction_per_c ,params)\n",
    "    \n",
    "    minuit_object = Minuit.from_array_func(fit_func,\n",
    "                                           (c, energyscaleAr_NP),\n",
    "                                           name      = (\"c\", \"energyscaleAr_NP\"),\n",
    "                                           error     = (1., 1.),\n",
    "                                           fix       = (fix_c, fix_energyscaleAr_NP),\n",
    "                                           errordef  = 1.)\n",
    "    minuit_object.migrad(precision=precision)\n",
    "    if type(minos) != type(None) :\n",
    "        minuit_object.minos(minos)\n",
    "    return minuit_object.get_fmin().fval, minuit_object"
   ]
  },
  {
   "cell_type": "code",
   "execution_count": 14,
   "metadata": {},
   "outputs": [],
   "source": [
    "def get_Wilks_CL_from_PLR (PLR, dof=1) :\n",
    "    x = np.linspace(0, 20, 1001)\n",
    "    y = stats.chi2.cdf(x, df=dof)\n",
    "    return 1. - np.interp(PLR, x, y)"
   ]
  },
  {
   "cell_type": "code",
   "execution_count": 15,
   "metadata": {},
   "outputs": [],
   "source": [
    "def get_limits (c_scan_values, CL_scan_tot, alpha) :\n",
    "    x_lo, x_hi, y_lo, y_hi = [], [], [], []\n",
    "    for c, CL in zip(c_scan_values, CL_scan_tot) :\n",
    "        if (len(y_lo) > 0) and (CL < y_lo[-1]) :\n",
    "            x_hi.append(c)\n",
    "            y_hi.append(CL)\n",
    "            continue\n",
    "        x_lo.append(c)\n",
    "        y_lo.append(CL)\n",
    "    lower_limit = np.interp(alpha, y_lo, x_lo)\n",
    "    upper_limit = np.interp(alpha, y_hi[::-1], x_hi[::-1])\n",
    "    return lower_limit, upper_limit"
   ]
  },
  {
   "cell_type": "code",
   "execution_count": 22,
   "metadata": {},
   "outputs": [],
   "source": [
    "def get_limit_ds20k(operator,specnum,cross_section,scaling) :\n",
    "\n",
    "    ds20k_bsm = get_dm_spectra(operator,specnum,scaling)\n",
    "    \n",
    "    ###############################################################\n",
    "\n",
    "    try:\n",
    "        TNLL_best_obs, fit_obj = get_argmin_TNLL(ds20k_measured_values,ds20k_bsm,minos=\"c\")\n",
    "        c_errs = fit_obj.get_merrors()['c']\n",
    "        #print(fit_obj.get_param_states())\n",
    "        \n",
    "        if (fit_obj.values[\"c\"] < 0) : \n",
    "            print('best fit was neg')\n",
    "            TNLL_best_obs, fit_obj = get_argmin_TNLL(ds20k_measured_values,ds20k_bsm,c=0)\n",
    "\n",
    "        c_best = fit_obj.values[\"c\"]\n",
    "        c_scan_values = np.linspace(c_best+4*c_errs.lower, c_best+4*c_errs.upper, 501)\n",
    "        PLR_scan_tot  = np.array([get_argmin_TNLL(ds20k_measured_values,ds20k_bsm, c=c)[0] for c in c_scan_values]) - TNLL_best_obs\n",
    "        CL_scan_tot   = get_Wilks_CL_from_PLR(PLR_scan_tot)\n",
    "        plt.plot(c_scan_values,1-CL_scan_tot)\n",
    "        lower_limit, upper_limit = get_limits(c_scan_values, CL_scan_tot, 0.1)\n",
    "\n",
    "        up=upper_limit*cross_section*scaling\n",
    "    except (RuntimeError):\n",
    "        up=1e0\n",
    "\n",
    "    return up\n",
    "\n",
    "def get_full_ds20k_limit(operator,cross_section,scaling) :\n",
    "    limit = []\n",
    "    for i in range(0,34) :\n",
    "        #print(i)\n",
    "        limit.append(get_limit_ds20k(operator, i,cross_section,scaling))\n",
    "        \n",
    "    if operator=='1':\n",
    "        masses = np.concatenate([np.logspace(-1.2,-1.05,4) , np.logspace(-1,1,30)])\n",
    "    else : \n",
    "        masses = np.logspace(-1.2,1,34) \n",
    "\n",
    "    np.savetxt('ds20k_O%slimit_energyscale.dat'%operator, np.array([masses, limit]).T, delimiter=', ')\n",
    "    return np.array(limit)\n",
    "        \n",
    "    \n"
   ]
  },
  {
   "cell_type": "code",
   "execution_count": 20,
   "metadata": {},
   "outputs": [],
   "source": [
    "o1_cross_section = 1e-40\n",
    "o3_cross_section = 1e-20\n",
    "o11_cross_section = 1e-30\n"
   ]
  },
  {
   "cell_type": "code",
   "execution_count": 21,
   "metadata": {},
   "outputs": [
    {
     "name": "stdout",
     "output_type": "stream",
     "text": [
      "7.974500879495478e-42\n"
     ]
    },
    {
     "data": {
      "image/png": "[encoded data removed]",
      "text/plain": [
       "<Figure size 432x288 with 1 Axes>"
      ]
     },
     "metadata": {
      "needs_background": "light"
     },
     "output_type": "display_data"
    }
   ],
   "source": [
    "# limit for a specific mass \n",
    "# spectra number 21 = mass of 1.48 GeV\n",
    "# for O1 (standard operator) can just leave the scaling factor as 1 and ignore it\n",
    "\n",
    "limit_21 = get_limit_ds20k('1', 21, o1_cross_section, 1)\n",
    "\n",
    "print(limit_21)"
   ]
  },
  {
   "cell_type": "code",
   "execution_count": 23,
   "metadata": {},
   "outputs": [
    {
     "name": "stderr",
     "output_type": "stream",
     "text": [
      "/home/ellen/anaconda3/lib/python3.7/site-packages/ipykernel_launcher.py:48: RuntimeWarning: divide by zero encountered in log\n",
      "/home/ellen/anaconda3/lib/python3.7/site-packages/ipykernel_launcher.py:48: RuntimeWarning: divide by zero encountered in log\n",
      "/home/ellen/anaconda3/lib/python3.7/site-packages/ipykernel_launcher.py:48: RuntimeWarning: divide by zero encountered in log\n",
      "/home/ellen/anaconda3/lib/python3.7/site-packages/ipykernel_launcher.py:48: RuntimeWarning: divide by zero encountered in log\n",
      "/home/ellen/anaconda3/lib/python3.7/site-packages/ipykernel_launcher.py:48: RuntimeWarning: divide by zero encountered in log\n",
      "/home/ellen/anaconda3/lib/python3.7/site-packages/ipykernel_launcher.py:48: RuntimeWarning: divide by zero encountered in log\n",
      "/home/ellen/anaconda3/lib/python3.7/site-packages/ipykernel_launcher.py:48: RuntimeWarning: divide by zero encountered in log\n",
      "/home/ellen/anaconda3/lib/python3.7/site-packages/ipykernel_launcher.py:48: RuntimeWarning: divide by zero encountered in log\n",
      "/home/ellen/anaconda3/lib/python3.7/site-packages/ipykernel_launcher.py:48: RuntimeWarning: divide by zero encountered in log\n",
      "/home/ellen/anaconda3/lib/python3.7/site-packages/ipykernel_launcher.py:48: RuntimeWarning: divide by zero encountered in log\n",
      "/home/ellen/anaconda3/lib/python3.7/site-packages/ipykernel_launcher.py:48: RuntimeWarning: divide by zero encountered in log\n",
      "/home/ellen/anaconda3/lib/python3.7/site-packages/ipykernel_launcher.py:48: RuntimeWarning: divide by zero encountered in log\n",
      "/home/ellen/anaconda3/lib/python3.7/site-packages/ipykernel_launcher.py:48: RuntimeWarning: divide by zero encountered in log\n",
      "/home/ellen/anaconda3/lib/python3.7/site-packages/ipykernel_launcher.py:48: RuntimeWarning: divide by zero encountered in log\n"
     ]
    },
    {
     "data": {
      "text/plain": [
       "array([7.10972491e-38, 3.84950759e-38, 2.33016958e-38, 1.20523818e-38,\n",
       "       1.11514977e-38, 6.52322699e-39, 4.64370184e-39, 3.10988133e-39,\n",
       "       2.04254681e-39, 1.77897046e-39, 1.02182557e-39, 7.50654201e-40,\n",
       "       5.20929194e-40, 3.59475614e-40, 2.50102945e-40, 1.74026208e-40,\n",
       "       1.21422843e-40, 8.44155441e-41, 5.83492549e-41, 4.10800748e-41,\n",
       "       2.86904804e-41, 7.97450088e-42, 3.14943337e-43, 4.52836117e-44,\n",
       "       1.31267471e-44, 5.78395678e-45, 3.38859140e-45, 2.40226243e-45,\n",
       "       1.97047035e-45, 1.77430050e-45, 1.69242273e-45, 1.66858192e-45,\n",
       "       1.70044611e-45, 1.78814828e-45])"
      ]
     },
     "execution_count": 23,
     "metadata": {},
     "output_type": "execute_result"
    },
    {
     "data": {
      "image/png": "[encoded data removed]",
      "text/plain": [
       "<Figure size 432x288 with 1 Axes>"
      ]
     },
     "metadata": {
      "needs_background": "light"
     },
     "output_type": "display_data"
    }
   ],
   "source": [
    "# total limit for all masses\n",
    "\n",
    "get_full_ds20k_limit('1',o1_cross_section,1)"
   ]
  },
  {
   "cell_type": "code",
   "execution_count": 25,
   "metadata": {},
   "outputs": [
    {
     "data": {
      "image/png": "[encoded data removed]",
      "text/plain": [
       "<Figure size 648x360 with 1 Axes>"
      ]
     },
     "metadata": {
      "needs_background": "light"
     },
     "output_type": "display_data"
    }
   ],
   "source": [
    "\n",
    "\n",
    "fig = plt.figure(figsize=(9,5))\n",
    "ax = plt.subplot(111)\n",
    "\n",
    "\n",
    "\"\"\"\n",
    "data = np.loadtxt('./lowmass-limit-data/Xenon1T_2019.dat')\n",
    "ax.loglog(data[:,0],data[:,1],'-',label='Xe1T 2019 [Xe]',linewidth=1,color='tab:cyan')\n",
    "\n",
    "data = np.loadtxt('./lowmass-limit-data/Xenon1T_2019_Migdal.dat')\n",
    "ax.loglog(data[:,0],data[:,1],'-',label='Xe1T Migdal 2019 [Xe]',linewidth=1,color='tab:purple')\n",
    "#\n",
    "data = np.loadtxt('./lowmass-limit-data/ds50_lim1.dat')\n",
    "ax.plot(data[:,0],data[:,1],'-',label='DS50 QF 2018 [Ar]',linewidth=1,color='tab:grey')\n",
    "\n",
    "data = np.loadtxt('./lowmass-limit-data/ds50_lim2.dat')\n",
    "ax.plot(data[:,0],data[:,1],'-',label='DS50 NQ 2018 [Ar]',linewidth=1,color='tab:olive')\n",
    "\n",
    "data = np.loadtxt('./lowmass-limit-data/CDMSlite_Run2_SI_2017.dat')\n",
    "ax.plot(data[:,0],data[:,1],'-',label='CDMSlite 2017 [Ge]',linewidth=1,color='tab:brown')\n",
    "\"\"\"\n",
    "rc('text', usetex=False)\n",
    "\n",
    "data = np.loadtxt('ds20k_O1limit_energyscale.dat',delimiter=',')\n",
    "ax.loglog(data[:,0],data[:,1],'--',label='DS20k $\\mathcal{O}_{1}$ projection',linewidth=2.5,color='tab:red')\n",
    "\n",
    "\n",
    "\n",
    "ax.set_ylim(5e-47,5e-36)\n",
    "ax.set_xlim(0.06,8)\n",
    "ax.set_ylabel('Dark Matter-Nucleon $\\sigma_{SI}$ [cm$^{2}$]',fontsize=18)\n",
    "ax.set_xlabel('M$_{\\chi}$ [GeV/c$^2$]',fontsize=18)\n",
    "ax.tick_params(axis='both', which='major', labelsize=15)\n",
    "\n",
    "ax.get_xaxis().set_major_formatter(matplotlib.ticker.ScalarFormatter())\n",
    "ax.xaxis.set_ticks([0.1,0.5,1,3,5])\n",
    "\n",
    "ax.legend(fontsize=15,frameon=False) #loc='center left', bbox_to_anchor=(1, 0.5)\n",
    "\n",
    "plt.tight_layout()\n",
    "fig.savefig('Limits-LZ-DS20k-proj-o1.png',transparent=False,facecolor='w')\n",
    "fig.savefig('Limits-LZ-DS20k-proj-o1.pdf',transparent=False,facecolor='w')"
   ]
  },
  {
   "cell_type": "code",
   "execution_count": null,
   "metadata": {},
   "outputs": [],
   "source": []
  }
 ],
 "metadata": {
  "kernelspec": {
   "display_name": "Python 3",
   "language": "python",
   "name": "python3"
  },
  "language_info": {
   "codemirror_mode": {
    "name": "ipython",
    "version": 3
   },
   "file_extension": ".py",
   "mimetype": "text/x-python",
   "name": "python",
   "nbconvert_exporter": "python",
   "pygments_lexer": "ipython3",
   "version": "3.8.8"
  }
 },
 "nbformat": 4,
 "nbformat_minor": 2
}
